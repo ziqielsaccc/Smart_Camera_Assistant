{
 "cells": [
  {
   "cell_type": "code",
   "execution_count": 1,
   "id": "8680a73e",
   "metadata": {},
   "outputs": [
    {
     "name": "stderr",
     "output_type": "stream",
     "text": [
      "2025-08-08 22:54:54.385 python[48595:2292616] WARNING: AVCaptureDeviceTypeExternal is deprecated for Continuity Cameras. Please use AVCaptureDeviceTypeContinuityCamera and add NSCameraUseContinuityCameraDeviceType to your Info.plist.\n"
     ]
    },
    {
     "ename": "KeyboardInterrupt",
     "evalue": "",
     "output_type": "error",
     "traceback": [
      "\u001b[0;31m---------------------------------------------------------------------------\u001b[0m",
      "\u001b[0;31mKeyboardInterrupt\u001b[0m                         Traceback (most recent call last)",
      "Cell \u001b[0;32mIn[1], line 18\u001b[0m\n\u001b[1;32m     15\u001b[0m     os\u001b[38;5;241m.\u001b[39mmakedirs(\u001b[38;5;124m'\u001b[39m\u001b[38;5;124msnapshots\u001b[39m\u001b[38;5;124m'\u001b[39m)\n\u001b[1;32m     17\u001b[0m \u001b[38;5;28;01mwhile\u001b[39;00m \u001b[38;5;28;01mTrue\u001b[39;00m:\n\u001b[0;32m---> 18\u001b[0m     ret, frame \u001b[38;5;241m=\u001b[39m \u001b[43mwebcam\u001b[49m\u001b[38;5;241;43m.\u001b[39;49m\u001b[43mread\u001b[49m\u001b[43m(\u001b[49m\u001b[43m)\u001b[49m\n\u001b[1;32m     19\u001b[0m     \u001b[38;5;28;01mif\u001b[39;00m \u001b[38;5;129;01mnot\u001b[39;00m ret:\n\u001b[1;32m     20\u001b[0m         \u001b[38;5;28mprint\u001b[39m(\u001b[38;5;124m\"\u001b[39m\u001b[38;5;124mFailed to grab frame.\u001b[39m\u001b[38;5;124m\"\u001b[39m)\n",
      "\u001b[0;31mKeyboardInterrupt\u001b[0m: "
     ]
    }
   ],
   "source": [
    "import cv2\n",
    "import os\n",
    "import datetime\n",
    "\n",
    "#Use Haar cascade classifier for face detection\n",
    "face_cascade = cv2.CascadeClassifier(cv2.data.haarcascades + 'haarcascade_frontalface_default.xml')\n",
    "\n",
    "webcam = cv2.VideoCapture(0)\n",
    "\n",
    "new_width = 640\n",
    "new_height = 480\n",
    "\n",
    "# Create snapshots directory if it doesn't exist-CHATGPT\n",
    "if not os.path.exists('snapshots'):\n",
    "    os.makedirs('snapshots')\n",
    "\n",
    "while True:\n",
    "    ret, frame = webcam.read()\n",
    "    if not ret:\n",
    "        print(\"Failed to grab frame.\")\n",
    "        break\n",
    "\n",
    "#Resize the video frame to 640×480\n",
    "resized_frame = cv2.resize(frame, (640, 480))\n",
    "\n",
    "#Grayscale version\n",
    "convert_gray = cv2.cvtColor(frame, cv2.COLOR_BGR2GRAY)\n",
    "\n",
    "#Canny edge-detected version\n",
    "canny_ver = cv2.Canny(convert_gray, 100, 200)\n",
    "\n",
    "# Face detection\n",
    "faces = face_cascade.detectMultiScale(convert_gray, scaleFactor=1.1, minNeighbors=5)\n",
    "annotated_frame = frame.copy()\n",
    "for (x, y, w, h) in faces:\n",
    "        cv2.rectangle(annotated_frame, (x, y), (x + w, y + h), (0, 255, 0), 2)\n",
    "\n",
    "# Stack images side-by-side\n",
    "gray_bgr = cv2.cvtColor(convert_gray, cv2.COLOR_GRAY2BGR)\n",
    "edges_bgr = cv2.cvtColor(canny_ver, cv2.COLOR_GRAY2BGR)\n",
    "combined = cv2.hconcat([annotated_frame, gray_bgr, edges_bgr])\n",
    "#Display\n",
    "cv2.imshow(\"Webcam Feed - [Original | Grayscale | Canny Edges]\", combined)\n",
    "\n",
    "key = cv2.waitKey(1) & 0xFF\n",
    "if key == ord('s'):\n",
    "        # Save snapshot with annotation\n",
    "        timestamp = datetime.datetime.now().strftime(\"%Y%m%d_%H%M%S\")\n",
    "        filename = f\"snapshots/snapshot_{timestamp}.png\"\n",
    "        cv2.imwrite(filename, annotated_frame)\n",
    "        print(f\"Snapshot saved as {filename}\")\n",
    "elif key == ord('q'):\n",
    "      break \n",
    "\n",
    "webcam.release()\n",
    "cv2.destroyAllWindows()"
   ]
  }
 ],
 "metadata": {
  "kernelspec": {
   "display_name": "archeo",
   "language": "python",
   "name": "python3"
  },
  "language_info": {
   "codemirror_mode": {
    "name": "ipython",
    "version": 3
   },
   "file_extension": ".py",
   "mimetype": "text/x-python",
   "name": "python",
   "nbconvert_exporter": "python",
   "pygments_lexer": "ipython3",
   "version": "3.10.18"
  }
 },
 "nbformat": 4,
 "nbformat_minor": 5
}
